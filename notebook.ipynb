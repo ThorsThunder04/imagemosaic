{
 "cells": [
  {
   "cell_type": "code",
   "execution_count": null,
   "metadata": {
    "vscode": {
     "languageId": "plaintext"
    }
   },
   "outputs": [],
   "source": [
    "from main import *"
   ]
  },
  {
   "cell_type": "markdown",
   "metadata": {},
   "source": [
    "The Following will Create a mosaiced image based off of your target image. The resolution will be 256x256 of the images in your target image folder. (here its `./imgs`)"
   ]
  },
  {
   "cell_type": "markdown",
   "metadata": {},
   "source": [
    "TARGET_IMAGE = \"./imgs/0.png\"\n",
    "\n",
    "mockmosaic = mosaicedImage(TARGET_IMAGE, \"./imgs\")"
   ]
  },
  {
   "cell_type": "markdown",
   "metadata": {},
   "source": [
    "The following saves the resulting image to a file `out.png`"
   ]
  },
  {
   "cell_type": "code",
   "execution_count": null,
   "metadata": {
    "vscode": {
     "languageId": "plaintext"
    }
   },
   "outputs": [],
   "source": [
    "\n",
    "im = Image.fromarray(mockmosaic, \"RGB\")\n",
    "im.save(\"out.png\", \"PNG\")"
   ]
  }
 ],
 "metadata": {
  "language_info": {
   "name": "python"
  }
 },
 "nbformat": 4,
 "nbformat_minor": 2
}
