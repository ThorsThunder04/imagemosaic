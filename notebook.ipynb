{
 "cells": [
  {
   "cell_type": "code",
   "execution_count": 8,
   "metadata": {},
   "outputs": [],
   "source": [
    "from utils import *\n",
    "import cv2 as cv"
   ]
  },
  {
   "cell_type": "markdown",
   "metadata": {},
   "source": [
    "The Following will Create a mosaiced image based off of your target image. The resolution will be 256x256 of the images in your target image folder. (here its `./imgs`)"
   ]
  },
  {
   "cell_type": "code",
   "execution_count": 9,
   "metadata": {},
   "outputs": [
    {
     "ename": "error",
     "evalue": "OpenCV(4.7.0) :-1: error: (-5:Bad argument) in function 'cvtColor'\n> Overload resolution failed:\n>  - src is not a numpy array, neither a scalar\n>  - Expected Ptr<cv::UMat> for argument 'src'\n",
     "output_type": "error",
     "traceback": [
      "\u001b[1;31m---------------------------------------------------------------------------\u001b[0m",
      "\u001b[1;31merror\u001b[0m                                     Traceback (most recent call last)",
      "Input \u001b[1;32mIn [9]\u001b[0m, in \u001b[0;36m<cell line: 2>\u001b[1;34m()\u001b[0m\n\u001b[0;32m      1\u001b[0m loaded_images \u001b[38;5;241m=\u001b[39m load_imgs_from_dir(\u001b[38;5;124m\"\u001b[39m\u001b[38;5;124m./imgs\u001b[39m\u001b[38;5;124m\"\u001b[39m)\n\u001b[1;32m----> 2\u001b[0m hsv_images \u001b[38;5;241m=\u001b[39m \u001b[43mconvert_images_to_color_space\u001b[49m\u001b[43m(\u001b[49m\u001b[43mloaded_images\u001b[49m\u001b[43m)\u001b[49m\n",
      "File \u001b[1;32mg:\\Other computers\\razer_laptop\\0prog_and_IT\\prog_langs\\python\\imagemosaic\\utils.py:149\u001b[0m, in \u001b[0;36mconvert_images_to_color_space\u001b[1;34m(image_dict, conversion_code)\u001b[0m\n\u001b[0;32m    144\u001b[0m converted_images \u001b[38;5;241m=\u001b[39m []\n\u001b[0;32m    146\u001b[0m \u001b[38;5;28;01mfor\u001b[39;00m file_name \u001b[38;5;129;01min\u001b[39;00m image_dict:\n\u001b[0;32m    147\u001b[0m     \n\u001b[0;32m    148\u001b[0m     \u001b[38;5;66;03m# converts the image to the desired color space\u001b[39;00m\n\u001b[1;32m--> 149\u001b[0m     converted_image \u001b[38;5;241m=\u001b[39m \u001b[43mcv\u001b[49m\u001b[38;5;241;43m.\u001b[39;49m\u001b[43mcvtColor\u001b[49m\u001b[43m(\u001b[49m\u001b[43mimage_dict\u001b[49m\u001b[43m[\u001b[49m\u001b[43mfile_name\u001b[49m\u001b[43m]\u001b[49m\u001b[43m,\u001b[49m\u001b[43m \u001b[49m\u001b[43mconversion_code\u001b[49m\u001b[43m)\u001b[49m\n\u001b[0;32m    151\u001b[0m     converted_images\u001b[38;5;241m.\u001b[39mappend( (file_name, converted_image) )\n\u001b[0;32m    153\u001b[0m \u001b[38;5;28;01mreturn\u001b[39;00m converted_images\n",
      "\u001b[1;31merror\u001b[0m: OpenCV(4.7.0) :-1: error: (-5:Bad argument) in function 'cvtColor'\n> Overload resolution failed:\n>  - src is not a numpy array, neither a scalar\n>  - Expected Ptr<cv::UMat> for argument 'src'\n"
     ]
    }
   ],
   "source": [
    "loaded_images = load_imgs_from_dir(\"./imgs\")\n",
    "hsv_images = convert_images_to_color_space(loaded_images)"
   ]
  },
  {
   "cell_type": "markdown",
   "metadata": {},
   "source": [
    "The following saves the resulting image to a file `out.png`"
   ]
  },
  {
   "cell_type": "code",
   "execution_count": 1,
   "metadata": {},
   "outputs": [
    {
     "ename": "NameError",
     "evalue": "name 'hsv_images' is not defined",
     "output_type": "error",
     "traceback": [
      "\u001b[1;31m---------------------------------------------------------------------------\u001b[0m",
      "\u001b[1;31mNameError\u001b[0m                                 Traceback (most recent call last)",
      "Input \u001b[1;32mIn [1]\u001b[0m, in \u001b[0;36m<cell line: 1>\u001b[1;34m()\u001b[0m\n\u001b[1;32m----> 1\u001b[0m \u001b[38;5;28;01mfor\u001b[39;00m title, img \u001b[38;5;129;01min\u001b[39;00m \u001b[43mhsv_images\u001b[49m:\n\u001b[0;32m      2\u001b[0m     cv\u001b[38;5;241m.\u001b[39mimshow(title, img)\n\u001b[0;32m      3\u001b[0m     cv\u001b[38;5;241m.\u001b[39mwaitkey(\u001b[38;5;241m0\u001b[39m)\n",
      "\u001b[1;31mNameError\u001b[0m: name 'hsv_images' is not defined"
     ]
    }
   ],
   "source": [
    "for title, img in hsv_images:\n",
    "    cv.imshow(title, img)\n",
    "    cv.waitkey(0)"
   ]
  },
  {
   "cell_type": "code",
   "execution_count": null,
   "metadata": {},
   "outputs": [],
   "source": []
  }
 ],
 "metadata": {
  "kernelspec": {
   "display_name": "Python 3",
   "language": "python",
   "name": "python3"
  },
  "language_info": {
   "codemirror_mode": {
    "name": "ipython",
    "version": 3
   },
   "file_extension": ".py",
   "mimetype": "text/x-python",
   "name": "python",
   "nbconvert_exporter": "python",
   "pygments_lexer": "ipython3",
   "version": "3.10.0"
  }
 },
 "nbformat": 4,
 "nbformat_minor": 2
}
